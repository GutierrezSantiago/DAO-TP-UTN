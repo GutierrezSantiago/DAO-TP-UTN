{
 "cells": [
  {
   "cell_type": "code",
   "execution_count": 11,
   "metadata": {},
   "outputs": [],
   "source": [
    "import tkinter as tk\n",
    "\n",
    "def mostrar_estado():\n",
    "    estado = True if check_var.get() else False\n",
    "\n",
    "# Crear la ventana principal\n",
    "ventana = tk.Tk()\n",
    "ventana.title(\"Ejemplo de Checkbutton\")\n",
    "\n",
    "# Variable para rastrear el estado del Checkbutton\n",
    "check_var = tk.BooleanVar()\n",
    "\n",
    "# Crear un Checkbutton\n",
    "checkbutton = tk.Checkbutton(ventana, text=\"Aceptar los términos y condiciones\", variable=check_var, command=mostrar_estado)\n",
    "checkbutton.pack(pady=10)\n",
    "\n",
    "# Etiqueta para mostrar el estado del Checkbutton\n",
    "label_estado = tk.Label(ventana, text=\"Estado: Desmarcado\")\n",
    "label_estado.pack(pady=10)\n",
    "\n",
    "# Botón para cerrar la aplicación\n",
    "boton_cerrar = tk.Button(ventana, text=\"Cerrar\", command=ventana.destroy)\n",
    "boton_cerrar.pack(pady=10)\n",
    "\n",
    "# Iniciar el bucle principal de la aplicación\n",
    "ventana.mainloop()\n"
   ]
  }
 ],
 "metadata": {
  "language_info": {
   "name": "python"
  }
 },
 "nbformat": 4,
 "nbformat_minor": 2
}
