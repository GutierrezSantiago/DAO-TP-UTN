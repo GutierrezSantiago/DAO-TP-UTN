{
 "cells": [
  {
   "cell_type": "code",
   "execution_count": 1,
   "metadata": {},
   "outputs": [],
   "source": [
    "from persistence.BDHelper import BDHelper\n",
    "from persistence.daos.implementations.LibroDAO import LibroDAOImplSQL\n",
    "from persistence.dtos.PrestamoDTO import PrestamoDTO\n",
    "\n",
    "p = PrestamoDTO(0, 7, 3, \"2023-10-03 10:00:00\", 7, None)\n",
    "d = p.asTuple()\n",
    "tableName = \"Prestamos\"\n",
    "columnas = \"(codigo_lib, id_socio, fecha_prest, dias_prest, fecha_fin)\"\n",
    "\n",
    "BDHelper().create(tableName, columnas, \"(?, ?, ?, ?, ?)\", d)\n",
    "\n",
    "l = LibroDAOImplSQL().fetchById(7)\n",
    "l.prestar()\n",
    "LibroDAOImplSQL().update(l)"
   ]
  },
  {
   "cell_type": "code",
   "execution_count": 2,
   "metadata": {},
   "outputs": [
    {
     "name": "stdout",
     "output_type": "stream",
     "text": [
      "Libro: 7 - El Camino de los Reyes - 29.99 - Prestado\n"
     ]
    }
   ],
   "source": [
    "l = LibroDAOImplSQL().fetchById(7)\n",
    "print(l)"
   ]
  },
  {
   "cell_type": "code",
   "execution_count": 7,
   "metadata": {},
   "outputs": [],
   "source": [
    "p = BDHelper().fetchById(\"Prestamos\", \"id_prestamo\", (6,))"
   ]
  }
 ],
 "metadata": {
  "kernelspec": {
   "display_name": "Python 3",
   "language": "python",
   "name": "python3"
  },
  "language_info": {
   "codemirror_mode": {
    "name": "ipython",
    "version": 3
   },
   "file_extension": ".py",
   "mimetype": "text/x-python",
   "name": "python",
   "nbconvert_exporter": "python",
   "pygments_lexer": "ipython3",
   "version": "3.10.4"
  }
 },
 "nbformat": 4,
 "nbformat_minor": 2
}
